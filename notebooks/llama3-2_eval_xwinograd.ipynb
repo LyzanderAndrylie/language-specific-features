{
 "cells": [
  {
   "cell_type": "markdown",
   "id": "73de2222",
   "metadata": {
    "id": "DLoIHgzz_Hsv",
    "papermill": {
     "duration": 0.002345,
     "end_time": "2025-05-06T05:14:45.518935",
     "exception": false,
     "start_time": "2025-05-06T05:14:45.516590",
     "status": "completed"
    },
    "tags": []
   },
   "source": [
    "## lm-evaluation-harness for Llama-3.2-1B on XNLI"
   ]
  },
  {
   "cell_type": "code",
   "execution_count": 1,
   "id": "4dec54b0",
   "metadata": {
    "execution": {
     "iopub.execute_input": "2025-05-06T05:14:45.523886Z",
     "iopub.status.busy": "2025-05-06T05:14:45.523564Z",
     "iopub.status.idle": "2025-05-06T05:14:45.644762Z",
     "shell.execute_reply": "2025-05-06T05:14:45.643887Z"
    },
    "id": "IHsmokBW_OAp",
    "papermill": {
     "duration": 0.125461,
     "end_time": "2025-05-06T05:14:45.646480",
     "exception": false,
     "start_time": "2025-05-06T05:14:45.521019",
     "status": "completed"
    },
    "tags": []
   },
   "outputs": [
    {
     "name": "stdout",
     "output_type": "stream",
     "text": [
      "Python 3.10.12\r\n"
     ]
    }
   ],
   "source": [
    "!python --version"
   ]
  },
  {
   "cell_type": "code",
   "execution_count": 2,
   "id": "06a5a6cf",
   "metadata": {
    "execution": {
     "iopub.execute_input": "2025-05-06T05:14:45.651460Z",
     "iopub.status.busy": "2025-05-06T05:14:45.651199Z",
     "iopub.status.idle": "2025-05-06T05:15:02.299705Z",
     "shell.execute_reply": "2025-05-06T05:15:02.298452Z"
    },
    "id": "YLubaAfTNPjY",
    "papermill": {
     "duration": 16.652395,
     "end_time": "2025-05-06T05:15:02.301086",
     "exception": false,
     "start_time": "2025-05-06T05:14:45.648691",
     "status": "completed"
    },
    "tags": []
   },
   "outputs": [
    {
     "name": "stdout",
     "output_type": "stream",
     "text": [
      "Collecting lm-eval==0.4.7\r\n",
      "  Downloading lm_eval-0.4.7-py3-none-any.whl.metadata (46 kB)\r\n",
      "\u001b[2K     \u001b[90m━━━━━━━━━━━━━━━━━━━━━━━━━━━━━━━━━━━━━━━━\u001b[0m \u001b[32m46.9/46.9 kB\u001b[0m \u001b[31m1.7 MB/s\u001b[0m eta \u001b[36m0:00:00\u001b[0m\r\n",
      "\u001b[?25hRequirement already satisfied: accelerate>=0.26.0 in /usr/local/lib/python3.10/dist-packages (from lm-eval==0.4.7) (1.2.1)\r\n",
      "Collecting evaluate (from lm-eval==0.4.7)\r\n",
      "  Downloading evaluate-0.4.3-py3-none-any.whl.metadata (9.2 kB)\r\n",
      "Requirement already satisfied: datasets>=2.16.0 in /usr/local/lib/python3.10/dist-packages (from lm-eval==0.4.7) (3.2.0)\r\n",
      "Collecting jsonlines (from lm-eval==0.4.7)\r\n",
      "  Downloading jsonlines-4.0.0-py3-none-any.whl.metadata (1.6 kB)\r\n",
      "Requirement already satisfied: numexpr in /usr/local/lib/python3.10/dist-packages (from lm-eval==0.4.7) (2.10.2)\r\n",
      "Requirement already satisfied: peft>=0.2.0 in /usr/local/lib/python3.10/dist-packages (from lm-eval==0.4.7) (0.14.0)\r\n",
      "Requirement already satisfied: pybind11>=2.6.2 in /usr/local/lib/python3.10/dist-packages (from lm-eval==0.4.7) (2.13.6)\r\n",
      "Collecting pytablewriter (from lm-eval==0.4.7)\r\n",
      "  Downloading pytablewriter-1.2.1-py3-none-any.whl.metadata (38 kB)\r\n",
      "Collecting rouge-score>=0.0.4 (from lm-eval==0.4.7)\r\n",
      "  Downloading rouge_score-0.1.2.tar.gz (17 kB)\r\n",
      "  Preparing metadata (setup.py) ... \u001b[?25l\u001b[?25hdone\r\n",
      "Collecting sacrebleu>=1.5.0 (from lm-eval==0.4.7)\r\n",
      "  Downloading sacrebleu-2.5.1-py3-none-any.whl.metadata (51 kB)\r\n",
      "\u001b[2K     \u001b[90m━━━━━━━━━━━━━━━━━━━━━━━━━━━━━━━━━━━━━━━━\u001b[0m \u001b[32m51.8/51.8 kB\u001b[0m \u001b[31m2.5 MB/s\u001b[0m eta \u001b[36m0:00:00\u001b[0m\r\n",
      "\u001b[?25hRequirement already satisfied: scikit-learn>=0.24.1 in /usr/local/lib/python3.10/dist-packages (from lm-eval==0.4.7) (1.2.2)\r\n",
      "Collecting sqlitedict (from lm-eval==0.4.7)\r\n",
      "  Downloading sqlitedict-2.1.0.tar.gz (21 kB)\r\n",
      "  Preparing metadata (setup.py) ... \u001b[?25l\u001b[?25hdone\r\n",
      "Requirement already satisfied: torch>=1.8 in /usr/local/lib/python3.10/dist-packages (from lm-eval==0.4.7) (2.5.1+cu121)\r\n",
      "Collecting tqdm-multiprocess (from lm-eval==0.4.7)\r\n",
      "  Downloading tqdm_multiprocess-0.0.11-py3-none-any.whl.metadata (5.7 kB)\r\n",
      "Requirement already satisfied: transformers>=4.1 in /usr/local/lib/python3.10/dist-packages (from lm-eval==0.4.7) (4.47.0)\r\n",
      "Collecting zstandard (from lm-eval==0.4.7)\r\n",
      "  Downloading zstandard-0.23.0-cp310-cp310-manylinux_2_17_x86_64.manylinux2014_x86_64.whl.metadata (3.0 kB)\r\n",
      "Requirement already satisfied: dill in /usr/local/lib/python3.10/dist-packages (from lm-eval==0.4.7) (0.3.8)\r\n",
      "Collecting word2number (from lm-eval==0.4.7)\r\n",
      "  Downloading word2number-1.1.zip (9.7 kB)\r\n",
      "  Preparing metadata (setup.py) ... \u001b[?25l\u001b[?25hdone\r\n",
      "Requirement already satisfied: more_itertools in /usr/local/lib/python3.10/dist-packages (from lm-eval==0.4.7) (10.5.0)\r\n",
      "Requirement already satisfied: numpy<3.0.0,>=1.17 in /usr/local/lib/python3.10/dist-packages (from accelerate>=0.26.0->lm-eval==0.4.7) (1.26.4)\r\n",
      "Requirement already satisfied: packaging>=20.0 in /usr/local/lib/python3.10/dist-packages (from accelerate>=0.26.0->lm-eval==0.4.7) (24.2)\r\n",
      "Requirement already satisfied: psutil in /usr/local/lib/python3.10/dist-packages (from accelerate>=0.26.0->lm-eval==0.4.7) (5.9.5)\r\n",
      "Requirement already satisfied: pyyaml in /usr/local/lib/python3.10/dist-packages (from accelerate>=0.26.0->lm-eval==0.4.7) (6.0.2)\r\n",
      "Requirement already satisfied: huggingface-hub>=0.21.0 in /usr/local/lib/python3.10/dist-packages (from accelerate>=0.26.0->lm-eval==0.4.7) (0.28.1)\r\n",
      "Requirement already satisfied: safetensors>=0.4.3 in /usr/local/lib/python3.10/dist-packages (from accelerate>=0.26.0->lm-eval==0.4.7) (0.4.5)\r\n",
      "Requirement already satisfied: filelock in /usr/local/lib/python3.10/dist-packages (from datasets>=2.16.0->lm-eval==0.4.7) (3.17.0)\r\n",
      "Requirement already satisfied: pyarrow>=15.0.0 in /usr/local/lib/python3.10/dist-packages (from datasets>=2.16.0->lm-eval==0.4.7) (19.0.0)\r\n",
      "Requirement already satisfied: pandas in /usr/local/lib/python3.10/dist-packages (from datasets>=2.16.0->lm-eval==0.4.7) (2.2.3)\r\n",
      "Requirement already satisfied: requests>=2.32.2 in /usr/local/lib/python3.10/dist-packages (from datasets>=2.16.0->lm-eval==0.4.7) (2.32.3)\r\n",
      "Requirement already satisfied: tqdm>=4.66.3 in /usr/local/lib/python3.10/dist-packages (from datasets>=2.16.0->lm-eval==0.4.7) (4.67.1)\r\n",
      "Requirement already satisfied: xxhash in /usr/local/lib/python3.10/dist-packages (from datasets>=2.16.0->lm-eval==0.4.7) (3.5.0)\r\n",
      "Requirement already satisfied: multiprocess<0.70.17 in /usr/local/lib/python3.10/dist-packages (from datasets>=2.16.0->lm-eval==0.4.7) (0.70.16)\r\n",
      "Requirement already satisfied: fsspec<=2024.9.0,>=2023.1.0 in /usr/local/lib/python3.10/dist-packages (from fsspec[http]<=2024.9.0,>=2023.1.0->datasets>=2.16.0->lm-eval==0.4.7) (2024.9.0)\r\n",
      "Requirement already satisfied: aiohttp in /usr/local/lib/python3.10/dist-packages (from datasets>=2.16.0->lm-eval==0.4.7) (3.11.11)\r\n",
      "Requirement already satisfied: absl-py in /usr/local/lib/python3.10/dist-packages (from rouge-score>=0.0.4->lm-eval==0.4.7) (1.4.0)\r\n",
      "Requirement already satisfied: nltk in /usr/local/lib/python3.10/dist-packages (from rouge-score>=0.0.4->lm-eval==0.4.7) (3.2.4)\r\n",
      "Requirement already satisfied: six>=1.14.0 in /usr/local/lib/python3.10/dist-packages (from rouge-score>=0.0.4->lm-eval==0.4.7) (1.17.0)\r\n",
      "Collecting portalocker (from sacrebleu>=1.5.0->lm-eval==0.4.7)\r\n",
      "  Downloading portalocker-3.1.1-py3-none-any.whl.metadata (8.6 kB)\r\n",
      "Requirement already satisfied: regex in /usr/local/lib/python3.10/dist-packages (from sacrebleu>=1.5.0->lm-eval==0.4.7) (2024.11.6)\r\n",
      "Requirement already satisfied: tabulate>=0.8.9 in /usr/local/lib/python3.10/dist-packages (from sacrebleu>=1.5.0->lm-eval==0.4.7) (0.9.0)\r\n",
      "Requirement already satisfied: colorama in /usr/local/lib/python3.10/dist-packages (from sacrebleu>=1.5.0->lm-eval==0.4.7) (0.4.6)\r\n",
      "Requirement already satisfied: lxml in /usr/local/lib/python3.10/dist-packages (from sacrebleu>=1.5.0->lm-eval==0.4.7) (5.3.0)\r\n",
      "Requirement already satisfied: scipy>=1.3.2 in /usr/local/lib/python3.10/dist-packages (from scikit-learn>=0.24.1->lm-eval==0.4.7) (1.13.1)\r\n",
      "Requirement already satisfied: joblib>=1.1.1 in /usr/local/lib/python3.10/dist-packages (from scikit-learn>=0.24.1->lm-eval==0.4.7) (1.4.2)\r\n",
      "Requirement already satisfied: threadpoolctl>=2.0.0 in /usr/local/lib/python3.10/dist-packages (from scikit-learn>=0.24.1->lm-eval==0.4.7) (3.5.0)\r\n",
      "Requirement already satisfied: typing-extensions>=4.8.0 in /usr/local/lib/python3.10/dist-packages (from torch>=1.8->lm-eval==0.4.7) (4.12.2)\r\n",
      "Requirement already satisfied: networkx in /usr/local/lib/python3.10/dist-packages (from torch>=1.8->lm-eval==0.4.7) (3.4.2)\r\n",
      "Requirement already satisfied: jinja2 in /usr/local/lib/python3.10/dist-packages (from torch>=1.8->lm-eval==0.4.7) (3.1.4)\r\n",
      "Requirement already satisfied: sympy==1.13.1 in /usr/local/lib/python3.10/dist-packages (from torch>=1.8->lm-eval==0.4.7) (1.13.1)\r\n",
      "Requirement already satisfied: mpmath<1.4,>=1.1.0 in /usr/local/lib/python3.10/dist-packages (from sympy==1.13.1->torch>=1.8->lm-eval==0.4.7) (1.3.0)\r\n",
      "Requirement already satisfied: tokenizers<0.22,>=0.21 in /usr/local/lib/python3.10/dist-packages (from transformers>=4.1->lm-eval==0.4.7) (0.21.0)\r\n",
      "Requirement already satisfied: attrs>=19.2.0 in /usr/local/lib/python3.10/dist-packages (from jsonlines->lm-eval==0.4.7) (25.1.0)\r\n",
      "Requirement already satisfied: setuptools>=38.3.0 in /usr/local/lib/python3.10/dist-packages (from pytablewriter->lm-eval==0.4.7) (75.1.0)\r\n",
      "Collecting DataProperty<2,>=1.1.0 (from pytablewriter->lm-eval==0.4.7)\r\n",
      "  Downloading DataProperty-1.1.0-py3-none-any.whl.metadata (11 kB)\r\n",
      "Collecting mbstrdecoder<2,>=1.0.0 (from pytablewriter->lm-eval==0.4.7)\r\n",
      "  Downloading mbstrdecoder-1.1.4-py3-none-any.whl.metadata (4.3 kB)\r\n",
      "Collecting pathvalidate<4,>=2.3.0 (from pytablewriter->lm-eval==0.4.7)\r\n",
      "  Downloading pathvalidate-3.2.3-py3-none-any.whl.metadata (12 kB)\r\n",
      "Collecting tabledata<2,>=1.3.1 (from pytablewriter->lm-eval==0.4.7)\r\n",
      "  Downloading tabledata-1.3.4-py3-none-any.whl.metadata (3.7 kB)\r\n",
      "Collecting tcolorpy<1,>=0.0.5 (from pytablewriter->lm-eval==0.4.7)\r\n",
      "  Downloading tcolorpy-0.1.7-py3-none-any.whl.metadata (6.3 kB)\r\n",
      "Collecting typepy<2,>=1.3.2 (from typepy[datetime]<2,>=1.3.2->pytablewriter->lm-eval==0.4.7)\r\n",
      "  Downloading typepy-1.3.4-py3-none-any.whl.metadata (9.2 kB)\r\n",
      "Requirement already satisfied: aiohappyeyeballs>=2.3.0 in /usr/local/lib/python3.10/dist-packages (from aiohttp->datasets>=2.16.0->lm-eval==0.4.7) (2.4.4)\r\n",
      "Requirement already satisfied: aiosignal>=1.1.2 in /usr/local/lib/python3.10/dist-packages (from aiohttp->datasets>=2.16.0->lm-eval==0.4.7) (1.3.2)\r\n",
      "Requirement already satisfied: async-timeout<6.0,>=4.0 in /usr/local/lib/python3.10/dist-packages (from aiohttp->datasets>=2.16.0->lm-eval==0.4.7) (5.0.1)\r\n",
      "Requirement already satisfied: frozenlist>=1.1.1 in /usr/local/lib/python3.10/dist-packages (from aiohttp->datasets>=2.16.0->lm-eval==0.4.7) (1.5.0)\r\n",
      "Requirement already satisfied: multidict<7.0,>=4.5 in /usr/local/lib/python3.10/dist-packages (from aiohttp->datasets>=2.16.0->lm-eval==0.4.7) (6.1.0)\r\n",
      "Requirement already satisfied: propcache>=0.2.0 in /usr/local/lib/python3.10/dist-packages (from aiohttp->datasets>=2.16.0->lm-eval==0.4.7) (0.2.1)\r\n",
      "Requirement already satisfied: yarl<2.0,>=1.17.0 in /usr/local/lib/python3.10/dist-packages (from aiohttp->datasets>=2.16.0->lm-eval==0.4.7) (1.18.3)\r\n",
      "Requirement already satisfied: chardet<6,>=3.0.4 in /usr/local/lib/python3.10/dist-packages (from mbstrdecoder<2,>=1.0.0->pytablewriter->lm-eval==0.4.7) (5.2.0)\r\n",
      "Requirement already satisfied: mkl_fft in /usr/local/lib/python3.10/dist-packages (from numpy<3.0.0,>=1.17->accelerate>=0.26.0->lm-eval==0.4.7) (1.3.8)\r\n",
      "Requirement already satisfied: mkl_random in /usr/local/lib/python3.10/dist-packages (from numpy<3.0.0,>=1.17->accelerate>=0.26.0->lm-eval==0.4.7) (1.2.4)\r\n",
      "Requirement already satisfied: mkl_umath in /usr/local/lib/python3.10/dist-packages (from numpy<3.0.0,>=1.17->accelerate>=0.26.0->lm-eval==0.4.7) (0.1.1)\r\n",
      "Requirement already satisfied: mkl in /usr/local/lib/python3.10/dist-packages (from numpy<3.0.0,>=1.17->accelerate>=0.26.0->lm-eval==0.4.7) (2025.0.1)\r\n",
      "Requirement already satisfied: tbb4py in /usr/local/lib/python3.10/dist-packages (from numpy<3.0.0,>=1.17->accelerate>=0.26.0->lm-eval==0.4.7) (2022.0.0)\r\n",
      "Requirement already satisfied: mkl-service in /usr/local/lib/python3.10/dist-packages (from numpy<3.0.0,>=1.17->accelerate>=0.26.0->lm-eval==0.4.7) (2.4.1)\r\n",
      "Requirement already satisfied: charset-normalizer<4,>=2 in /usr/local/lib/python3.10/dist-packages (from requests>=2.32.2->datasets>=2.16.0->lm-eval==0.4.7) (3.4.1)\r\n",
      "Requirement already satisfied: idna<4,>=2.5 in /usr/local/lib/python3.10/dist-packages (from requests>=2.32.2->datasets>=2.16.0->lm-eval==0.4.7) (3.10)\r\n",
      "Requirement already satisfied: urllib3<3,>=1.21.1 in /usr/local/lib/python3.10/dist-packages (from requests>=2.32.2->datasets>=2.16.0->lm-eval==0.4.7) (2.3.0)\r\n",
      "Requirement already satisfied: certifi>=2017.4.17 in /usr/local/lib/python3.10/dist-packages (from requests>=2.32.2->datasets>=2.16.0->lm-eval==0.4.7) (2025.1.31)\r\n",
      "Requirement already satisfied: python-dateutil<3.0.0,>=2.8.0 in /usr/local/lib/python3.10/dist-packages (from typepy[datetime]<2,>=1.3.2->pytablewriter->lm-eval==0.4.7) (2.9.0.post0)\r\n",
      "Requirement already satisfied: pytz>=2018.9 in /usr/local/lib/python3.10/dist-packages (from typepy[datetime]<2,>=1.3.2->pytablewriter->lm-eval==0.4.7) (2025.1)\r\n",
      "Requirement already satisfied: MarkupSafe>=2.0 in /usr/local/lib/python3.10/dist-packages (from jinja2->torch>=1.8->lm-eval==0.4.7) (3.0.2)\r\n",
      "Requirement already satisfied: tzdata>=2022.7 in /usr/local/lib/python3.10/dist-packages (from pandas->datasets>=2.16.0->lm-eval==0.4.7) (2025.1)\r\n",
      "Requirement already satisfied: intel-openmp>=2024 in /usr/local/lib/python3.10/dist-packages (from mkl->numpy<3.0.0,>=1.17->accelerate>=0.26.0->lm-eval==0.4.7) (2024.2.0)\r\n",
      "Requirement already satisfied: tbb==2022.* in /usr/local/lib/python3.10/dist-packages (from mkl->numpy<3.0.0,>=1.17->accelerate>=0.26.0->lm-eval==0.4.7) (2022.0.0)\r\n",
      "Requirement already satisfied: tcmlib==1.* in /usr/local/lib/python3.10/dist-packages (from tbb==2022.*->mkl->numpy<3.0.0,>=1.17->accelerate>=0.26.0->lm-eval==0.4.7) (1.2.0)\r\n",
      "Requirement already satisfied: intel-cmplr-lib-rt in /usr/local/lib/python3.10/dist-packages (from mkl_umath->numpy<3.0.0,>=1.17->accelerate>=0.26.0->lm-eval==0.4.7) (2024.2.0)\r\n",
      "Requirement already satisfied: intel-cmplr-lib-ur==2024.2.0 in /usr/local/lib/python3.10/dist-packages (from intel-openmp>=2024->mkl->numpy<3.0.0,>=1.17->accelerate>=0.26.0->lm-eval==0.4.7) (2024.2.0)\r\n",
      "Downloading lm_eval-0.4.7-py3-none-any.whl (2.5 MB)\r\n",
      "\u001b[2K   \u001b[90m━━━━━━━━━━━━━━━━━━━━━━━━━━━━━━━━━━━━━━━━\u001b[0m \u001b[32m2.5/2.5 MB\u001b[0m \u001b[31m33.4 MB/s\u001b[0m eta \u001b[36m0:00:00\u001b[0m\r\n",
      "\u001b[?25hDownloading evaluate-0.4.3-py3-none-any.whl (84 kB)\r\n",
      "\u001b[2K   \u001b[90m━━━━━━━━━━━━━━━━━━━━━━━━━━━━━━━━━━━━━━━━\u001b[0m \u001b[32m84.0/84.0 kB\u001b[0m \u001b[31m5.1 MB/s\u001b[0m eta \u001b[36m0:00:00\u001b[0m\r\n",
      "\u001b[?25hDownloading sacrebleu-2.5.1-py3-none-any.whl (104 kB)\r\n",
      "\u001b[2K   \u001b[90m━━━━━━━━━━━━━━━━━━━━━━━━━━━━━━━━━━━━━━━━\u001b[0m \u001b[32m104.1/104.1 kB\u001b[0m \u001b[31m6.5 MB/s\u001b[0m eta \u001b[36m0:00:00\u001b[0m\r\n",
      "\u001b[?25hDownloading jsonlines-4.0.0-py3-none-any.whl (8.7 kB)\r\n",
      "Downloading pytablewriter-1.2.1-py3-none-any.whl (91 kB)\r\n",
      "\u001b[2K   \u001b[90m━━━━━━━━━━━━━━━━━━━━━━━━━━━━━━━━━━━━━━━━\u001b[0m \u001b[32m91.1/91.1 kB\u001b[0m \u001b[31m6.7 MB/s\u001b[0m eta \u001b[36m0:00:00\u001b[0m\r\n",
      "\u001b[?25hDownloading tqdm_multiprocess-0.0.11-py3-none-any.whl (9.8 kB)\r\n",
      "Downloading zstandard-0.23.0-cp310-cp310-manylinux_2_17_x86_64.manylinux2014_x86_64.whl (5.4 MB)\r\n",
      "\u001b[2K   \u001b[90m━━━━━━━━━━━━━━━━━━━━━━━━━━━━━━━━━━━━━━━━\u001b[0m \u001b[32m5.4/5.4 MB\u001b[0m \u001b[31m93.4 MB/s\u001b[0m eta \u001b[36m0:00:00\u001b[0m\r\n",
      "\u001b[?25hDownloading DataProperty-1.1.0-py3-none-any.whl (27 kB)\r\n",
      "Downloading mbstrdecoder-1.1.4-py3-none-any.whl (7.9 kB)\r\n",
      "Downloading pathvalidate-3.2.3-py3-none-any.whl (24 kB)\r\n",
      "Downloading tabledata-1.3.4-py3-none-any.whl (11 kB)\r\n",
      "Downloading tcolorpy-0.1.7-py3-none-any.whl (8.1 kB)\r\n",
      "Downloading typepy-1.3.4-py3-none-any.whl (31 kB)\r\n",
      "Downloading portalocker-3.1.1-py3-none-any.whl (19 kB)\r\n",
      "Building wheels for collected packages: rouge-score, sqlitedict, word2number\r\n",
      "  Building wheel for rouge-score (setup.py) ... \u001b[?25l\u001b[?25hdone\r\n",
      "  Created wheel for rouge-score: filename=rouge_score-0.1.2-py3-none-any.whl size=24935 sha256=a390b2815ce2cecd86523eaf0e67922ed62a2cd22c8edf2450fd37cdb585a573\r\n",
      "  Stored in directory: /root/.cache/pip/wheels/5f/dd/89/461065a73be61a532ff8599a28e9beef17985c9e9c31e541b4\r\n",
      "  Building wheel for sqlitedict (setup.py) ... \u001b[?25l\u001b[?25hdone\r\n",
      "  Created wheel for sqlitedict: filename=sqlitedict-2.1.0-py3-none-any.whl size=16864 sha256=38c66f1e647b2e57883a9705a00a898204a000944d832b48007f9bbba5f88aa6\r\n",
      "  Stored in directory: /root/.cache/pip/wheels/79/d6/e7/304e0e6cb2221022c26d8161f7c23cd4f259a9e41e8bbcfabd\r\n",
      "  Building wheel for word2number (setup.py) ... \u001b[?25l\u001b[?25hdone\r\n",
      "  Created wheel for word2number: filename=word2number-1.1-py3-none-any.whl size=5568 sha256=fb24f7bce0c1a9d8c62afa5893f0a47dd2a636a3cb95ed1954f6d44d68e0dd1c\r\n",
      "  Stored in directory: /root/.cache/pip/wheels/84/ff/26/d3cfbd971e96c5aa3737ecfced81628830d7359b55fbb8ca3b\r\n",
      "Successfully built rouge-score sqlitedict word2number\r\n",
      "Installing collected packages: word2number, sqlitedict, zstandard, tqdm-multiprocess, tcolorpy, portalocker, pathvalidate, mbstrdecoder, jsonlines, typepy, DataProperty, tabledata, pytablewriter, sacrebleu, rouge-score, evaluate, lm-eval\r\n",
      "Successfully installed DataProperty-1.1.0 evaluate-0.4.3 jsonlines-4.0.0 lm-eval-0.4.7 mbstrdecoder-1.1.4 pathvalidate-3.2.3 portalocker-3.1.1 pytablewriter-1.2.1 rouge-score-0.1.2 sacrebleu-2.5.1 sqlitedict-2.1.0 tabledata-1.3.4 tcolorpy-0.1.7 tqdm-multiprocess-0.0.11 typepy-1.3.4 word2number-1.1 zstandard-0.23.0\r\n",
      "Note: you may need to restart the kernel to use updated packages.\n"
     ]
    }
   ],
   "source": [
    "%pip install lm-eval==0.4.7"
   ]
  },
  {
   "cell_type": "markdown",
   "id": "135f26e4",
   "metadata": {
    "id": "cHXS-Kqh_nUb",
    "papermill": {
     "duration": 0.004426,
     "end_time": "2025-05-06T05:15:02.310435",
     "exception": false,
     "start_time": "2025-05-06T05:15:02.306009",
     "status": "completed"
    },
    "tags": []
   },
   "source": [
    "## Llama-3.2-1B Evaluation on XNLI"
   ]
  },
  {
   "cell_type": "code",
   "execution_count": 3,
   "id": "cd104de8",
   "metadata": {
    "execution": {
     "iopub.execute_input": "2025-05-06T05:15:02.320668Z",
     "iopub.status.busy": "2025-05-06T05:15:02.320373Z",
     "iopub.status.idle": "2025-05-06T05:15:02.603243Z",
     "shell.execute_reply": "2025-05-06T05:15:02.602543Z"
    },
    "id": "HprM-uqC0k1q",
    "papermill": {
     "duration": 0.289822,
     "end_time": "2025-05-06T05:15:02.604791",
     "exception": false,
     "start_time": "2025-05-06T05:15:02.314969",
     "status": "completed"
    },
    "tags": []
   },
   "outputs": [],
   "source": [
    "env = 'kaggle'\n",
    "\n",
    "if env == 'colab':\n",
    "    from google.colab import userdata\n",
    "\n",
    "    HF_TOKEN = userdata.get('HF_TOKEN')\n",
    "elif env == 'kaggle':\n",
    "    from kaggle_secrets import UserSecretsClient\n",
    "\n",
    "    user_secrets = UserSecretsClient()\n",
    "    HF_TOKEN = user_secrets.get_secret(\"HF_TOKEN\")"
   ]
  },
  {
   "cell_type": "code",
   "execution_count": 4,
   "id": "c548dfa7",
   "metadata": {
    "execution": {
     "iopub.execute_input": "2025-05-06T05:15:02.615281Z",
     "iopub.status.busy": "2025-05-06T05:15:02.614972Z",
     "iopub.status.idle": "2025-05-06T05:15:03.504854Z",
     "shell.execute_reply": "2025-05-06T05:15:03.504185Z"
    },
    "id": "dGsrocNV1x-Q",
    "papermill": {
     "duration": 0.896567,
     "end_time": "2025-05-06T05:15:03.506329",
     "exception": false,
     "start_time": "2025-05-06T05:15:02.609762",
     "status": "completed"
    },
    "tags": []
   },
   "outputs": [],
   "source": [
    "from huggingface_hub import login\n",
    "\n",
    "login(token=HF_TOKEN)"
   ]
  },
  {
   "cell_type": "code",
   "execution_count": 5,
   "id": "bc0d9fbf",
   "metadata": {
    "execution": {
     "iopub.execute_input": "2025-05-06T05:15:03.516570Z",
     "iopub.status.busy": "2025-05-06T05:15:03.516323Z",
     "iopub.status.idle": "2025-05-06T05:18:28.501206Z",
     "shell.execute_reply": "2025-05-06T05:18:28.500050Z"
    },
    "id": "_FPrtRuxNFsj",
    "papermill": {
     "duration": 204.99185,
     "end_time": "2025-05-06T05:18:28.502995",
     "exception": false,
     "start_time": "2025-05-06T05:15:03.511145",
     "status": "completed"
    },
    "tags": []
   },
   "outputs": [
    {
     "name": "stdout",
     "output_type": "stream",
     "text": [
      "2025-05-06 05:15:14.683188: E external/local_xla/xla/stream_executor/cuda/cuda_fft.cc:485] Unable to register cuFFT factory: Attempting to register factory for plugin cuFFT when one has already been registered\r\n",
      "2025-05-06 05:15:14.886086: E external/local_xla/xla/stream_executor/cuda/cuda_dnn.cc:8454] Unable to register cuDNN factory: Attempting to register factory for plugin cuDNN when one has already been registered\r\n",
      "2025-05-06 05:15:14.941897: E external/local_xla/xla/stream_executor/cuda/cuda_blas.cc:1452] Unable to register cuBLAS factory: Attempting to register factory for plugin cuBLAS when one has already been registered\r\n",
      "config.json: 100%|█████████████████████████████| 843/843 [00:00<00:00, 4.63MB/s]\r\n",
      "tokenizer_config.json: 100%|███████████████| 50.5k/50.5k [00:00<00:00, 13.4MB/s]\r\n",
      "tokenizer.json: 100%|██████████████████████| 9.09M/9.09M [00:01<00:00, 8.38MB/s]\r\n",
      "special_tokens_map.json: 100%|█████████████████| 301/301 [00:00<00:00, 1.72MB/s]\r\n",
      "model.safetensors: 100%|███████████████████▉| 2.47G/2.47G [00:05<00:00, 415MB/s]\r\n",
      "generation_config.json: 100%|██████████████████| 185/185 [00:00<00:00, 1.21MB/s]\r\n",
      "README.md: 100%|███████████████████████████| 4.18k/4.18k [00:00<00:00, 16.7MB/s]\r\n",
      "test-00000-of-00001.parquet: 100%|█████████| 82.1k/82.1k [00:00<00:00, 18.1MB/s]\r\n",
      "Generating test split: 100%|████████| 504/504 [00:00<00:00, 11095.81 examples/s]\r\n",
      "test-00000-of-00001.parquet: 100%|██████████| 30.8k/30.8k [00:00<00:00, 122MB/s]\r\n",
      "Generating test split: 100%|███████| 315/315 [00:00<00:00, 105376.12 examples/s]\r\n",
      "test-00000-of-00001.parquet: 100%|█████████| 17.9k/17.9k [00:00<00:00, 81.7MB/s]\r\n",
      "Generating test split: 100%|███████| 263/263 [00:00<00:00, 103587.37 examples/s]\r\n",
      "test-00000-of-00001.parquet: 100%|█████████| 71.5k/71.5k [00:00<00:00, 54.9MB/s]\r\n",
      "Generating test split: 100%|███████| 959/959 [00:00<00:00, 296413.97 examples/s]\r\n",
      "test-00000-of-00001.parquet: 100%|█████████| 7.76k/7.76k [00:00<00:00, 47.4MB/s]\r\n",
      "Generating test split: 100%|██████████| 83/83 [00:00<00:00, 34515.89 examples/s]\r\n",
      "test-00000-of-00001.parquet: 100%|███████████| 136k/136k [00:00<00:00, 71.4MB/s]\r\n",
      "Generating test split: 100%|█████| 2325/2325 [00:00<00:00, 496070.65 examples/s]\r\n",
      "100%|████████████████████████████████████| 2325/2325 [00:00<00:00, 73744.54it/s]\r\n",
      "100%|████████████████████████████████████████| 83/83 [00:00<00:00, 73151.34it/s]\r\n",
      "100%|██████████████████████████████████████| 959/959 [00:00<00:00, 64989.62it/s]\r\n",
      "100%|██████████████████████████████████████| 263/263 [00:00<00:00, 70113.90it/s]\r\n",
      "100%|██████████████████████████████████████| 315/315 [00:00<00:00, 77814.11it/s]\r\n",
      "100%|██████████████████████████████████████| 504/504 [00:00<00:00, 76139.22it/s]\r\n",
      "Running loglikelihood requests:   0%|                  | 0/8898 [00:00<?, ?it/s]Passed argument batch_size = auto:4.0. Detecting largest batch size\r\n",
      "Determined largest batch size: 64\r\n",
      "Running loglikelihood requests:  24%|█▋     | 2157/8898 [01:10<01:42, 66.03it/s]Passed argument batch_size = auto:4.0. Detecting largest batch size\r\n",
      "Determined largest batch size: 64\r\n",
      "Running loglikelihood requests: 100%|███████| 8898/8898 [02:15<00:00, 65.89it/s]\r\n",
      "fatal: not a git repository (or any parent up to mount point /kaggle)\r\n",
      "Stopping at filesystem boundary (GIT_DISCOVERY_ACROSS_FILESYSTEM not set).\r\n",
      "hf (pretrained=meta-llama/Llama-3.2-1B), gen_kwargs: (None), limit: None, num_fewshot: None, batch_size: auto:4 (64,64,64,64,64)\r\n",
      "|     Tasks     |Version|Filter|n-shot|Metric|   |Value |   |Stderr|\r\n",
      "|---------------|------:|------|-----:|------|---|-----:|---|-----:|\r\n",
      "|xwinograd      |      1|none  |      |acc   |↑  |0.7199|±  |0.0066|\r\n",
      "| - xwinograd_en|      1|none  |     0|acc   |↑  |0.8129|±  |0.0081|\r\n",
      "| - xwinograd_fr|      1|none  |     0|acc   |↑  |0.6506|±  |0.0527|\r\n",
      "| - xwinograd_jp|      1|none  |     0|acc   |↑  |0.5996|±  |0.0158|\r\n",
      "| - xwinograd_pt|      1|none  |     0|acc   |↑  |0.6616|±  |0.0292|\r\n",
      "| - xwinograd_ru|      1|none  |     0|acc   |↑  |0.5968|±  |0.0277|\r\n",
      "| - xwinograd_zh|      1|none  |     0|acc   |↑  |0.6389|±  |0.0214|\r\n",
      "\r\n",
      "| Groups  |Version|Filter|n-shot|Metric|   |Value |   |Stderr|\r\n",
      "|---------|------:|------|------|------|---|-----:|---|-----:|\r\n",
      "|xwinograd|      1|none  |      |acc   |↑  |0.7199|±  |0.0066|\r\n",
      "\r\n"
     ]
    }
   ],
   "source": [
    "!lm_eval \\\n",
    "\t--model hf \\\n",
    "\t--model_args pretrained=meta-llama/Llama-3.2-1B \\\n",
    "\t--tasks xwinograd \\\n",
    "\t--device cuda:0 \\\n",
    "\t--batch_size auto:4 \\\n",
    "\t--output_path ./eval_result/Llama-3.2-1B/xwinograd \\\n",
    "\t--log_samples"
   ]
  }
 ],
 "metadata": {
  "accelerator": "GPU",
  "colab": {
   "gpuType": "T4",
   "provenance": []
  },
  "kaggle": {
   "accelerator": "gpu",
   "dataSources": [],
   "dockerImageVersionId": 30887,
   "isGpuEnabled": true,
   "isInternetEnabled": true,
   "language": "python",
   "sourceType": "notebook"
  },
  "kernelspec": {
   "display_name": "Python 3",
   "language": "python",
   "name": "python3"
  },
  "language_info": {
   "codemirror_mode": {
    "name": "ipython",
    "version": 3
   },
   "file_extension": ".py",
   "mimetype": "text/x-python",
   "name": "python",
   "nbconvert_exporter": "python",
   "pygments_lexer": "ipython3",
   "version": "3.10.12"
  },
  "papermill": {
   "default_parameters": {},
   "duration": 226.093805,
   "end_time": "2025-05-06T05:18:28.934321",
   "environment_variables": {},
   "exception": null,
   "input_path": "__notebook__.ipynb",
   "output_path": "__notebook__.ipynb",
   "parameters": {},
   "start_time": "2025-05-06T05:14:42.840516",
   "version": "2.6.0"
  }
 },
 "nbformat": 4,
 "nbformat_minor": 5
}

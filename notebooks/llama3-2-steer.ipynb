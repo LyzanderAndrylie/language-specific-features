{
 "cells": [
  {
   "cell_type": "markdown",
   "id": "2ab701ef",
   "metadata": {
    "papermill": {
     "duration": 0.003648,
     "end_time": "2025-04-11T05:49:36.854023",
     "exception": false,
     "start_time": "2025-04-11T05:49:36.850375",
     "status": "completed"
    },
    "tags": []
   },
   "source": [
    "## lm-evaluation-harness steering for Llama-3.2-1B"
   ]
  },
  {
   "cell_type": "code",
   "execution_count": null,
   "id": "ab99741c",
   "metadata": {
    "execution": {
     "iopub.execute_input": "2025-04-11T05:49:36.860638Z",
     "iopub.status.busy": "2025-04-11T05:49:36.860369Z",
     "iopub.status.idle": "2025-04-11T05:49:36.982400Z",
     "shell.execute_reply": "2025-04-11T05:49:36.981677Z"
    },
    "papermill": {
     "duration": 0.126949,
     "end_time": "2025-04-11T05:49:36.983874",
     "exception": false,
     "start_time": "2025-04-11T05:49:36.856925",
     "status": "completed"
    },
    "tags": []
   },
   "outputs": [],
   "source": [
    "!python --version"
   ]
  },
  {
   "cell_type": "code",
   "execution_count": null,
   "id": "bc1b099b",
   "metadata": {
    "execution": {
     "iopub.execute_input": "2025-04-11T05:49:36.991529Z",
     "iopub.status.busy": "2025-04-11T05:49:36.990742Z",
     "iopub.status.idle": "2025-04-11T05:50:57.594793Z",
     "shell.execute_reply": "2025-04-11T05:50:57.593676Z"
    },
    "papermill": {
     "duration": 80.609004,
     "end_time": "2025-04-11T05:50:57.596022",
     "exception": false,
     "start_time": "2025-04-11T05:49:36.987018",
     "status": "completed"
    },
    "tags": []
   },
   "outputs": [],
   "source": [
    "%pip install --quiet lm-eval==0.4.8"
   ]
  },
  {
   "cell_type": "code",
   "execution_count": null,
   "id": "b3c7fb91",
   "metadata": {
    "execution": {
     "iopub.execute_input": "2025-04-11T05:50:57.632794Z",
     "iopub.status.busy": "2025-04-11T05:50:57.632548Z",
     "iopub.status.idle": "2025-04-11T05:50:57.785594Z",
     "shell.execute_reply": "2025-04-11T05:50:57.785075Z"
    },
    "papermill": {
     "duration": 0.172386,
     "end_time": "2025-04-11T05:50:57.786850",
     "exception": false,
     "start_time": "2025-04-11T05:50:57.614464",
     "status": "completed"
    },
    "tags": []
   },
   "outputs": [],
   "source": [
    "env = 'kaggle'\n",
    "\n",
    "if env == 'colab':\n",
    "    from google.colab import userdata\n",
    "\n",
    "    HF_TOKEN = userdata.get('HF_TOKEN')\n",
    "elif env == 'kaggle':\n",
    "    from kaggle_secrets import UserSecretsClient\n",
    "\n",
    "    user_secrets = UserSecretsClient()\n",
    "    HF_TOKEN = user_secrets.get_secret(\"HF_TOKEN\")\n",
    "else:\n",
    "    from dotenv import load_dotenv\n",
    "    import os\n",
    "\n",
    "    load_dotenv()\n",
    "    HF_TOKEN = os.getenv(\"HF_TOKEN\")"
   ]
  },
  {
   "cell_type": "code",
   "execution_count": null,
   "id": "f1872fd2",
   "metadata": {
    "execution": {
     "iopub.execute_input": "2025-04-11T05:50:57.822559Z",
     "iopub.status.busy": "2025-04-11T05:50:57.822343Z",
     "iopub.status.idle": "2025-04-11T05:50:58.824422Z",
     "shell.execute_reply": "2025-04-11T05:50:58.823615Z"
    },
    "papermill": {
     "duration": 1.021664,
     "end_time": "2025-04-11T05:50:58.826098",
     "exception": false,
     "start_time": "2025-04-11T05:50:57.804434",
     "status": "completed"
    },
    "tags": []
   },
   "outputs": [],
   "source": [
    "from huggingface_hub import login\n",
    "\n",
    "login(token=HF_TOKEN)"
   ]
  },
  {
   "cell_type": "code",
   "execution_count": null,
   "id": "11dd6861",
   "metadata": {
    "execution": {
     "iopub.execute_input": "2025-04-11T05:50:58.880090Z",
     "iopub.status.busy": "2025-04-11T05:50:58.879394Z",
     "iopub.status.idle": "2025-04-11T05:51:01.987053Z",
     "shell.execute_reply": "2025-04-11T05:51:01.986471Z"
    },
    "papermill": {
     "duration": 3.135825,
     "end_time": "2025-04-11T05:51:01.988374",
     "exception": false,
     "start_time": "2025-04-11T05:50:58.852549",
     "status": "completed"
    },
    "tags": []
   },
   "outputs": [],
   "source": [
    "import torch\n",
    "import os\n",
    "from pathlib import Path\n",
    "import pprint"
   ]
  },
  {
   "cell_type": "markdown",
   "id": "2e82c7a6",
   "metadata": {
    "papermill": {
     "duration": 0.017257,
     "end_time": "2025-04-11T05:51:02.024107",
     "exception": false,
     "start_time": "2025-04-11T05:51:02.006850",
     "status": "completed"
    },
    "tags": []
   },
   "source": [
    "## Steering Configuration"
   ]
  },
  {
   "cell_type": "code",
   "execution_count": null,
   "id": "10a3a07b",
   "metadata": {
    "execution": {
     "iopub.execute_input": "2025-04-11T05:51:02.059972Z",
     "iopub.status.busy": "2025-04-11T05:51:02.059640Z",
     "iopub.status.idle": "2025-04-11T05:51:02.063190Z",
     "shell.execute_reply": "2025-04-11T05:51:02.062656Z"
    },
    "papermill": {
     "duration": 0.022971,
     "end_time": "2025-04-11T05:51:02.064306",
     "exception": false,
     "start_time": "2025-04-11T05:51:02.041335",
     "status": "completed"
    },
    "tags": []
   },
   "outputs": [],
   "source": [
    "project_dir = Path().resolve().parent"
   ]
  },
  {
   "cell_type": "code",
   "execution_count": null,
   "id": "9110f836",
   "metadata": {
    "execution": {
     "iopub.execute_input": "2025-04-11T05:51:02.100264Z",
     "iopub.status.busy": "2025-04-11T05:51:02.099961Z",
     "iopub.status.idle": "2025-04-11T05:51:08.292523Z",
     "shell.execute_reply": "2025-04-11T05:51:08.291690Z"
    },
    "papermill": {
     "duration": 6.212518,
     "end_time": "2025-04-11T05:51:08.294055",
     "exception": false,
     "start_time": "2025-04-11T05:51:02.081537",
     "status": "completed"
    },
    "tags": []
   },
   "outputs": [],
   "source": [
    "lape_result_path = Path(\"/kaggle/input/lape-result/lape.pt\")\n",
    "lape_result = torch.load(lape_result_path, weights_only=False)"
   ]
  },
  {
   "cell_type": "code",
   "execution_count": null,
   "id": "4ae9475e",
   "metadata": {
    "execution": {
     "iopub.execute_input": "2025-04-11T05:51:08.378168Z",
     "iopub.status.busy": "2025-04-11T05:51:08.377875Z",
     "iopub.status.idle": "2025-04-11T05:51:08.383998Z",
     "shell.execute_reply": "2025-04-11T05:51:08.383282Z"
    },
    "papermill": {
     "duration": 0.025388,
     "end_time": "2025-04-11T05:51:08.385053",
     "exception": false,
     "start_time": "2025-04-11T05:51:08.359665",
     "status": "completed"
    },
    "tags": []
   },
   "outputs": [],
   "source": [
    "sorted_lang = lape_result['sorted_lang']\n",
    "sorted_lang"
   ]
  },
  {
   "cell_type": "code",
   "execution_count": null,
   "id": "4f72a244",
   "metadata": {
    "execution": {
     "iopub.execute_input": "2025-04-11T05:51:08.420794Z",
     "iopub.status.busy": "2025-04-11T05:51:08.420562Z",
     "iopub.status.idle": "2025-04-11T05:51:08.425609Z",
     "shell.execute_reply": "2025-04-11T05:51:08.425067Z"
    },
    "papermill": {
     "duration": 0.024012,
     "end_time": "2025-04-11T05:51:08.426635",
     "exception": false,
     "start_time": "2025-04-11T05:51:08.402623",
     "status": "completed"
    },
    "tags": []
   },
   "outputs": [],
   "source": [
    "layers = [\n",
    "    \"layers.0.mlp\",\n",
    "    \"layers.1.mlp\",\n",
    "    \"layers.2.mlp\",\n",
    "    \"layers.3.mlp\",\n",
    "    \"layers.4.mlp\",\n",
    "    \"layers.5.mlp\",\n",
    "    \"layers.6.mlp\",\n",
    "    \"layers.7.mlp\",\n",
    "    \"layers.8.mlp\",\n",
    "    \"layers.9.mlp\",\n",
    "    \"layers.10.mlp\",\n",
    "    \"layers.11.mlp\",\n",
    "    \"layers.12.mlp\",\n",
    "    \"layers.13.mlp\",\n",
    "    \"layers.14.mlp\",\n",
    "    \"layers.15.mlp\",\n",
    "]\n",
    "\n",
    "\n",
    "def generate_config(lang, multiplier, lape_value_type):\n",
    "    steer_config = {}\n",
    "    lang_index = sorted_lang.index(lang)\n",
    "\n",
    "    for layer_index, layer in enumerate(layers):\n",
    "        sae_features = lape_result[\"sae_features\"][lang_index][layer_index]\n",
    "\n",
    "        if sae_features.numel() == 0:\n",
    "            continue\n",
    "\n",
    "        lape_value = lape_result[lape_value_type][lang_index][layer_index].unsqueeze(1)\n",
    "        steering_vector = torch.sum(lape_value * sae_features, dim=0, keepdim=True)\n",
    "\n",
    "        steer_config[layer] = {\n",
    "            \"steering_vector\": steering_vector,\n",
    "            \"bias\": None,\n",
    "            \"steering_coefficient\": multiplier,\n",
    "            \"action\": \"add\",\n",
    "        }\n",
    "\n",
    "    return steer_config"
   ]
  },
  {
   "cell_type": "code",
   "execution_count": null,
   "id": "c1217dc7",
   "metadata": {
    "execution": {
     "iopub.execute_input": "2025-04-11T05:51:08.463646Z",
     "iopub.status.busy": "2025-04-11T05:51:08.463039Z",
     "iopub.status.idle": "2025-04-11T05:51:08.466328Z",
     "shell.execute_reply": "2025-04-11T05:51:08.465811Z"
    },
    "papermill": {
     "duration": 0.023591,
     "end_time": "2025-04-11T05:51:08.467492",
     "exception": false,
     "start_time": "2025-04-11T05:51:08.443901",
     "status": "completed"
    },
    "tags": []
   },
   "outputs": [],
   "source": [
    "langs = [\"German\", \"French\", \"Spanish\"]\n",
    "multiplier = -1\n",
    "lape_value_type = \"final_indice_global_max_active\""
   ]
  },
  {
   "cell_type": "code",
   "execution_count": null,
   "id": "9d870d0a",
   "metadata": {
    "execution": {
     "iopub.execute_input": "2025-04-11T05:51:08.503058Z",
     "iopub.status.busy": "2025-04-11T05:51:08.502854Z",
     "iopub.status.idle": "2025-04-11T05:51:08.563931Z",
     "shell.execute_reply": "2025-04-11T05:51:08.562937Z"
    },
    "papermill": {
     "duration": 0.079996,
     "end_time": "2025-04-11T05:51:08.565054",
     "exception": false,
     "start_time": "2025-04-11T05:51:08.485058",
     "status": "completed"
    },
    "tags": []
   },
   "outputs": [],
   "source": [
    "steer_output_paths = {}\n",
    "steer_configs = {}\n",
    "\n",
    "for lang in langs:\n",
    "    steer_config = generate_config(lang, multiplier)\n",
    "    steer_configs[lang] = steer_config\n",
    "\n",
    "    print(f\"Steer config for {lang}:\")\n",
    "    pprint.pprint(steer_config)\n",
    "    print()\n",
    "\n",
    "    steer_output_path = f\"/kaggle/working/configs/{lang}/steer_config_mult_{multiplier}.pt\"\n",
    "    steer_output_paths[lang] = steer_output_path\n",
    "\n",
    "    os.makedirs(os.path.dirname(steer_output_path), exist_ok=True)\n",
    "    torch.save(steer_config, steer_output_path)"
   ]
  },
  {
   "cell_type": "markdown",
   "id": "5eaf9668",
   "metadata": {
    "papermill": {
     "duration": 0.017652,
     "end_time": "2025-04-11T05:51:08.601203",
     "exception": false,
     "start_time": "2025-04-11T05:51:08.583551",
     "status": "completed"
    },
    "tags": []
   },
   "source": [
    "## Llama-3.2-1B Evaluation on XNLI"
   ]
  },
  {
   "cell_type": "code",
   "execution_count": null,
   "id": "321c9098",
   "metadata": {
    "execution": {
     "iopub.execute_input": "2025-04-11T05:51:08.637783Z",
     "iopub.status.busy": "2025-04-11T05:51:08.637577Z",
     "iopub.status.idle": "2025-04-11T05:51:08.641083Z",
     "shell.execute_reply": "2025-04-11T05:51:08.640419Z"
    },
    "papermill": {
     "duration": 0.023122,
     "end_time": "2025-04-11T05:51:08.642211",
     "exception": false,
     "start_time": "2025-04-11T05:51:08.619089",
     "status": "completed"
    },
    "tags": []
   },
   "outputs": [],
   "source": [
    "xnli_output_paths = {}\n",
    "\n",
    "for lang in langs:\n",
    "    xnli_output_paths[lang] = f'/kaggle/working/eval_result/Llama-3.2-1B/xnli_steer/{lang}/mult_{multiplier}'"
   ]
  },
  {
   "cell_type": "code",
   "execution_count": null,
   "id": "2ae8c02d",
   "metadata": {
    "execution": {
     "iopub.execute_input": "2025-04-11T05:51:08.681865Z",
     "iopub.status.busy": "2025-04-11T05:51:08.681473Z",
     "iopub.status.idle": "2025-04-11T08:46:08.949166Z",
     "shell.execute_reply": "2025-04-11T08:46:08.948136Z"
    },
    "papermill": {
     "duration": 10500.290994,
     "end_time": "2025-04-11T08:46:08.950756",
     "exception": false,
     "start_time": "2025-04-11T05:51:08.659762",
     "status": "completed"
    },
    "tags": []
   },
   "outputs": [],
   "source": [
    "for lang in langs:\n",
    "\t!lm_eval --model steered \\\n",
    "\t\t--model_args pretrained=meta-llama/Llama-3.2-1B,steer_path={steer_output_paths[lang]} \\\n",
    "\t\t--tasks xnli \\\n",
    "\t\t--device cuda:0 \\\n",
    "\t\t--batch_size auto:4 \\\n",
    "\t\t--output_path {xnli_output_paths[lang]} \\\n",
    "\t\t--log_samples "
   ]
  },
  {
   "cell_type": "markdown",
   "id": "1cf6cdfa",
   "metadata": {
    "papermill": {
     "duration": 0.270645,
     "end_time": "2025-04-11T08:46:09.501042",
     "exception": false,
     "start_time": "2025-04-11T08:46:09.230397",
     "status": "completed"
    },
    "tags": []
   },
   "source": [
    "## Llama-3.2-1B Evaluation on PAWS-X"
   ]
  },
  {
   "cell_type": "code",
   "execution_count": null,
   "id": "702eebf7",
   "metadata": {
    "execution": {
     "iopub.execute_input": "2025-04-11T08:46:10.109435Z",
     "iopub.status.busy": "2025-04-11T08:46:10.108870Z",
     "iopub.status.idle": "2025-04-11T08:46:10.113169Z",
     "shell.execute_reply": "2025-04-11T08:46:10.112656Z"
    },
    "papermill": {
     "duration": 0.279848,
     "end_time": "2025-04-11T08:46:10.114149",
     "exception": false,
     "start_time": "2025-04-11T08:46:09.834301",
     "status": "completed"
    },
    "tags": []
   },
   "outputs": [],
   "source": [
    "pawsx_output_paths = {}\n",
    "\n",
    "for lang in langs:\n",
    "    pawsx_output_paths[lang] = f'/kaggle/working/eval_result/Llama-3.2-1B/pawsx_steer/{lang}/mult_{multiplier}'"
   ]
  },
  {
   "cell_type": "code",
   "execution_count": null,
   "id": "93194530",
   "metadata": {
    "execution": {
     "iopub.execute_input": "2025-04-11T08:46:10.657080Z",
     "iopub.status.busy": "2025-04-11T08:46:10.656372Z",
     "iopub.status.idle": "2025-04-11T09:38:14.959447Z",
     "shell.execute_reply": "2025-04-11T09:38:14.958426Z"
    },
    "papermill": {
     "duration": 3124.578056,
     "end_time": "2025-04-11T09:38:14.960987",
     "exception": false,
     "start_time": "2025-04-11T08:46:10.382931",
     "status": "completed"
    },
    "tags": []
   },
   "outputs": [],
   "source": [
    "for lang in langs:\n",
    "\t!lm_eval --model steered \\\n",
    "\t\t--model_args pretrained=meta-llama/Llama-3.2-1B,steer_path={steer_output_paths[lang]} \\\n",
    "\t\t--tasks pawsx \\\n",
    "\t\t--device cuda:0 \\\n",
    "\t\t--batch_size auto:4 \\\n",
    "\t\t--output_path {pawsx_output_paths[lang]} \\\n",
    "\t\t--log_samples"
   ]
  }
 ],
 "metadata": {
  "kaggle": {
   "accelerator": "gpu",
   "dataSources": [
    {
     "datasetId": 6927737,
     "sourceId": 11355172,
     "sourceType": "datasetVersion"
    }
   ],
   "dockerImageVersionId": 31012,
   "isGpuEnabled": true,
   "isInternetEnabled": true,
   "language": "python",
   "sourceType": "notebook"
  },
  "kernelspec": {
   "display_name": "Python 3",
   "language": "python",
   "name": "python3"
  },
  "language_info": {
   "codemirror_mode": {
    "name": "ipython",
    "version": 3
   },
   "file_extension": ".py",
   "mimetype": "text/x-python",
   "name": "python",
   "nbconvert_exporter": "python",
   "pygments_lexer": "ipython3",
   "version": "3.11.11"
  },
  "papermill": {
   "default_parameters": {},
   "duration": 13723.382534,
   "end_time": "2025-04-11T09:38:16.246800",
   "environment_variables": {},
   "exception": null,
   "input_path": "__notebook__.ipynb",
   "output_path": "__notebook__.ipynb",
   "parameters": {},
   "start_time": "2025-04-11T05:49:32.864266",
   "version": "2.6.0"
  }
 },
 "nbformat": 4,
 "nbformat_minor": 5
}
